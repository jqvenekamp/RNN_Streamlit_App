{
 "cells": [
  {
   "cell_type": "markdown",
   "id": "c641fffa",
   "metadata": {},
   "source": [
    "In this file we'll initialize, create, and train the simple RNN model.\n"
   ]
  },
  {
   "cell_type": "code",
   "execution_count": 27,
   "id": "53a47ad9",
   "metadata": {},
   "outputs": [],
   "source": [
    "from tensorflow.keras.preprocessing.text import one_hot\n",
    "from tensorflow.keras.utils import pad_sequences\n",
    "from tensorflow.keras.models import Sequential\n",
    "from tensorflow.keras.layers import Embedding\n",
    "import numpy as np\n",
    "\n",
    "# Example list of sentences for RNN training\n",
    "sentences = [\n",
    "    \"The quick brown fox jumps over the lazy dog.\",\n",
    "    \"Artificial intelligence is transforming many industries.\",\n",
    "    \"She enjoys reading books on rainy afternoons.\",\n",
    "    \"The RNN model learns patterns from sequential data.\",\n",
    "    \"Python is a popular language for machine learning.\",\n",
    "    \"The sun rises in the east and sets in the west.\",\n",
    "    \"Training neural networks requires a lot of data.\",\n",
    "    \"He drank a cup of coffee before starting work.\",\n",
    "    \"The cat slept peacefully on the windowsill.\",\n",
    "    \"LangChain and Huggingface are useful AI frameworks.\"\n",
    "]"
   ]
  },
  {
   "cell_type": "markdown",
   "id": "89184b06",
   "metadata": {},
   "source": [
    "Now we start with the text preprocessing."
   ]
  },
  {
   "cell_type": "code",
   "execution_count": 28,
   "id": "b0a455d6",
   "metadata": {},
   "outputs": [
    {
     "name": "stdout",
     "output_type": "stream",
     "text": [
      "[[   0 7767 6120 1209 4368 9705 9962 7767 7983 2071]\n",
      " [   0    0    0    0 9614 8059 5210 6930 6241 5238]\n",
      " [   0    0    0 6871 1172 2807 5176 5068 9364 2143]\n",
      " [   0    0 7767 6908 1065 6134 6260 7857 5225  755]\n",
      " [   0    0 4959 5210 4005 8632 4753 1413 3477 2250]\n",
      " [6017 3761 7465 7767 5712 1823 3288 7465 7767 2074]\n",
      " [   0    0 1871 6438 2966 6985 4005 2203 8561  755]\n",
      " [   0 6144 6328 4005  922 8561 8824 4821 3332 5875]\n",
      " [   0    0    0 7767 3747 3439 3834 5068 7767 5726]\n",
      " [   0    0    0 4852 1823  396 4693 5960 4112 5143]]\n",
      "1/1 [==============================] - 0s 73ms/step\n",
      "[[[ 4.4232044e-02  3.3626232e-02  4.3028865e-02 -4.9760826e-03\n",
      "   -4.9930599e-02  1.9013677e-02  4.5692850e-02 -2.8543925e-02\n",
      "   -1.3918057e-03 -3.1095529e-02]\n",
      "  [ 1.3099853e-02 -1.2134980e-02  2.7034853e-02 -4.8502397e-02\n",
      "   -4.8449170e-02  4.0927995e-02  1.0860957e-02 -1.6312040e-02\n",
      "    4.1677546e-02  2.0131204e-02]\n",
      "  [ 2.3839559e-02  1.1894595e-02 -4.1097678e-02 -4.4358280e-02\n",
      "    2.0778064e-02  4.6904314e-02  4.4753764e-02 -1.5068509e-02\n",
      "    7.1938150e-03  9.8199360e-03]\n",
      "  [ 4.3003712e-02  4.4719566e-02  1.8502306e-02  4.2210791e-02\n",
      "   -4.6263468e-02 -1.3677396e-02  4.5232903e-02  2.4739649e-02\n",
      "    1.3102341e-02  4.8658062e-02]\n",
      "  [-3.7292767e-02 -5.5213347e-03 -1.8886114e-02 -2.1669865e-02\n",
      "   -1.8604957e-02 -2.1745944e-02  1.3571564e-02 -6.4617507e-03\n",
      "    4.9447667e-02  4.5188893e-02]\n",
      "  [-1.3171863e-02  2.8687540e-02 -2.6484430e-02  4.0204372e-02\n",
      "   -3.5017777e-02  2.2201512e-02  2.5002252e-02 -3.2741763e-02\n",
      "    3.3677135e-02 -1.0706820e-02]\n",
      "  [ 4.4444036e-02 -1.1537708e-02  4.7428835e-02  3.2249581e-02\n",
      "    1.1373676e-02  3.4724209e-02  3.2410864e-02 -4.5107927e-02\n",
      "   -2.7158916e-02  3.9764140e-02]\n",
      "  [ 1.3099853e-02 -1.2134980e-02  2.7034853e-02 -4.8502397e-02\n",
      "   -4.8449170e-02  4.0927995e-02  1.0860957e-02 -1.6312040e-02\n",
      "    4.1677546e-02  2.0131204e-02]\n",
      "  [-3.1319238e-02  4.8735205e-02  3.8340691e-02  2.4831902e-02\n",
      "    8.4549300e-03  2.9755984e-02 -4.6953667e-02  4.2829886e-03\n",
      "   -2.4847472e-02  3.0906428e-02]\n",
      "  [ 4.7245059e-02 -2.1888245e-02 -9.9247470e-03 -2.1459533e-02\n",
      "    2.8134074e-02  3.8176719e-02 -2.0850612e-02  9.4175339e-05\n",
      "    4.1693594e-02  4.2383384e-02]]]\n",
      "Model: \"sequential_15\"\n",
      "_________________________________________________________________\n",
      " Layer (type)                Output Shape              Param #   \n",
      "=================================================================\n",
      " embedding_15 (Embedding)    (None, 10, 10)            100000    \n",
      "                                                                 \n",
      "=================================================================\n",
      "Total params: 100000 (390.62 KB)\n",
      "Trainable params: 100000 (390.62 KB)\n",
      "Non-trainable params: 0 (0.00 Byte)\n",
      "_________________________________________________________________\n"
     ]
    }
   ],
   "source": [
    "sentences = [s.lower() for s in sentences]  # Convert to lowercase\n",
    "sentences = [s.replace('.', '') for s in sentences]  # Remove punctuation  \n",
    "sentences = [s.replace(',', '') for s in sentences]  # Remove punctuation\n",
    "\n",
    "# Consider vocabulary size\n",
    "vocab_size = 10000  # Size of the vocabulary\n",
    "for word in sentences:\n",
    "    one_hot_encoded = one_hot(word, vocab_size)\n",
    "\n",
    "# Define maximum length of sequences\n",
    "max_length = 10  # Maximum length of sequences\n",
    "\n",
    "# Pad sequences to ensure uniform input size\n",
    "padded_sequences = pad_sequences([one_hot(word, vocab_size) for word in sentences],\n",
    "                                 maxlen=max_length, padding='pre')\n",
    "\n",
    "print(padded_sequences)\n",
    "\n",
    "feature_representation_size = 10 # Size of the feature representation\n",
    "model = Sequential()\n",
    "model.add(Embedding(input_dim=vocab_size, output_dim=feature_representation_size, input_length=max_length))\n",
    "model.compile('rmsprop', 'mse')\n",
    "print(model.predict(padded_sequences[0:1]))  # Predict for the first padded sequence\n",
    "model.summary()"
   ]
  }
 ],
 "metadata": {
  "kernelspec": {
   "display_name": "tf-env",
   "language": "python",
   "name": "python3"
  },
  "language_info": {
   "codemirror_mode": {
    "name": "ipython",
    "version": 3
   },
   "file_extension": ".py",
   "mimetype": "text/x-python",
   "name": "python",
   "nbconvert_exporter": "python",
   "pygments_lexer": "ipython3",
   "version": "3.11.13"
  }
 },
 "nbformat": 4,
 "nbformat_minor": 5
}
