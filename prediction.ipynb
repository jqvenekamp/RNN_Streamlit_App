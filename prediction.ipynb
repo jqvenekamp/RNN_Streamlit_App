{
 "cells": [
  {
   "cell_type": "markdown",
   "id": "795dd08c",
   "metadata": {},
   "source": [
    "## RNN Model Prediction"
   ]
  },
  {
   "cell_type": "code",
   "execution_count": 31,
   "id": "c66d4374",
   "metadata": {},
   "outputs": [],
   "source": [
    "from tensorflow.keras.datasets import imdb\n",
    "from tensorflow.keras.preprocessing import sequence\n",
    "from tensorflow.keras.models import load_model\n",
    "\n",
    "word_index = imdb.get_word_index()\n",
    "reversed_word_index = {value: key for key, value in word_index.items()}"
   ]
  },
  {
   "cell_type": "code",
   "execution_count": null,
   "id": "af65d9d8",
   "metadata": {},
   "outputs": [
    {
     "name": "stdout",
     "output_type": "stream",
     "text": [
      "['the', 'movie', 'was', 'garbage']\n",
      "[1, 17, 13, 1241]\n",
      "[4, 20, 16, 1244]\n",
      "1/1 [==============================] - 0s 228ms/step\n",
      "Semantic meaning of the text is negative with a score of 0.17497369647026062\n"
     ]
    }
   ],
   "source": [
    "model = load_model('simplernn_model.h5')\n",
    "sample_text = \"The movie was garbage\"\n",
    "\n",
    "def preprocess_text(text):\n",
    "    ## Remove exclamantion mark and points and commas\n",
    "    text = text.replace('!', '').replace('.', '').replace(',', '')\n",
    "    tokens = text.lower().split()\n",
    "    print(tokens)\n",
    "    token_ids2 = [word_index.get(token, 0) for token in tokens]\n",
    "    print(token_ids2)\n",
    "    token_ids = [word_index.get(token, 2) + 3 for token in tokens]\n",
    "    print(token_ids)\n",
    "    return sequence.pad_sequences([token_ids], maxlen=500)\n",
    "\n",
    "semantic_meaning = model.predict(preprocess_text(sample_text))\n",
    "if semantic_meaning[0][0] > 0.5:\n",
    "    transl_meaning = \"positive\"\n",
    "else:\n",
    "    transl_meaning = \"negative\"\n",
    "print(f\"Meaning of the text is {transl_meaning} with a score of {semantic_meaning[0][0]}\")"
   ]
  }
 ],
 "metadata": {
  "kernelspec": {
   "display_name": "tf-env",
   "language": "python",
   "name": "python3"
  },
  "language_info": {
   "codemirror_mode": {
    "name": "ipython",
    "version": 3
   },
   "file_extension": ".py",
   "mimetype": "text/x-python",
   "name": "python",
   "nbconvert_exporter": "python",
   "pygments_lexer": "ipython3",
   "version": "3.11.13"
  }
 },
 "nbformat": 4,
 "nbformat_minor": 5
}
